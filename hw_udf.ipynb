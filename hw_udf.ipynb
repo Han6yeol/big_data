{
 "cells": [
  {
   "cell_type": "code",
   "execution_count": 1,
   "metadata": {},
   "outputs": [],
   "source": [
    "# [+] SparkSession 설정\n",
    "from pyspark.sql import SparkSession\n",
    "spark = SparkSession.builder.master('local').appName('udf').getOrCreate()\n",
    "\n",
    "# Annotation 방식으로 UDF 등록하기 @\n",
    "from pyspark.sql.functions import udf"
   ]
  },
  {
   "cell_type": "code",
   "execution_count": 2,
   "metadata": {},
   "outputs": [],
   "source": [
    "# 샘플 데이터: 이름 및 나이\n",
    "age_category = [\n",
    "    ('김일', 16),\n",
    "    ('박이', 28),\n",
    "    ('강삼', 50),\n",
    "    ('나사', 39),\n",
    "    ('권오', 42),\n",
    "    ('현육', 73),\n",
    "    ('서칠', 20),\n",
    "    ('명팔', 80)\n",
    "]\n"
   ]
  },
  {
   "cell_type": "code",
   "execution_count": 3,
   "metadata": {},
   "outputs": [],
   "source": [
    "# [+] 스키마 정의\n",
    "schema = ['name', 'age']"
   ]
  },
  {
   "cell_type": "code",
   "execution_count": 4,
   "metadata": {},
   "outputs": [],
   "source": [
    "# [+] 데이터프레임 생성\n",
    "df = spark.createDataFrame(age_category, schema)"
   ]
  },
  {
   "cell_type": "code",
   "execution_count": 5,
   "metadata": {},
   "outputs": [],
   "source": [
    "# temporary view 생성\n",
    "df.createOrReplaceTempView('name_age')"
   ]
  },
  {
   "cell_type": "code",
   "execution_count": 6,
   "metadata": {},
   "outputs": [
    {
     "name": "stdout",
     "output_type": "stream",
     "text": [
      "+----+---+\n",
      "|name|age|\n",
      "+----+---+\n",
      "|김일| 16|\n",
      "|박이| 28|\n",
      "|강삼| 50|\n",
      "|나사| 39|\n",
      "|권오| 42|\n",
      "|현육| 73|\n",
      "|서칠| 20|\n",
      "|명팔| 80|\n",
      "+----+---+\n",
      "\n"
     ]
    }
   ],
   "source": [
    "# [+] 데이터프레임 출력\n",
    "df.show()"
   ]
  },
  {
   "cell_type": "code",
   "execution_count": 7,
   "metadata": {},
   "outputs": [],
   "source": [
    "# udf 함수 생성\n",
    "\n",
    "def age_category(age):\n",
    "    if age < 35:                  #35살 미만 = 'young'\n",
    "        return 'young'\n",
    "    elif age >= 35 and age < 60:  #35살 이상 60살 미만 = 'adult'\n",
    "        return 'adult'\n",
    "    elif age >= 60:               #60살 이상 = 'senior'\n",
    "        return 'senior'"
   ]
  },
  {
   "cell_type": "code",
   "execution_count": 8,
   "metadata": {},
   "outputs": [
    {
     "data": {
      "text/plain": [
       "<function __main__.age_category(age)>"
      ]
     },
     "execution_count": 8,
     "metadata": {},
     "output_type": "execute_result"
    }
   ],
   "source": [
    "#UDF 등록\n",
    "spark.udf.register('age_category',age_category)"
   ]
  },
  {
   "cell_type": "code",
   "execution_count": 9,
   "metadata": {},
   "outputs": [
    {
     "name": "stdout",
     "output_type": "stream",
     "text": [
      "+----+------+\n",
      "|name|   age|\n",
      "+----+------+\n",
      "|김일| young|\n",
      "|박이| young|\n",
      "|강삼| adult|\n",
      "|나사| adult|\n",
      "|권오| adult|\n",
      "|현육|senior|\n",
      "|서칠| young|\n",
      "|명팔|senior|\n",
      "+----+------+\n",
      "\n"
     ]
    }
   ],
   "source": [
    "#SQL문 처리\n",
    "spark.sql('SELECT name, age_category(age) AS age \\\n",
    "           FROM name_age').show()"
   ]
  },
  {
   "cell_type": "code",
   "execution_count": null,
   "metadata": {},
   "outputs": [],
   "source": []
  }
 ],
 "metadata": {
  "kernelspec": {
   "display_name": "Python 3 (ipykernel)",
   "language": "python",
   "name": "python3"
  },
  "language_info": {
   "codemirror_mode": {
    "name": "ipython",
    "version": 3
   },
   "file_extension": ".py",
   "mimetype": "text/x-python",
   "name": "python",
   "nbconvert_exporter": "python",
   "pygments_lexer": "ipython3",
   "version": "3.9.12"
  }
 },
 "nbformat": 4,
 "nbformat_minor": 4
}
